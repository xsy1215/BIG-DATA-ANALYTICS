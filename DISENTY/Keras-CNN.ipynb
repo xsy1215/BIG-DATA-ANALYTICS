{
 "cells": [
  {
   "cell_type": "markdown",
   "metadata": {},
   "source": [
    "# load in model"
   ]
  },
  {
   "cell_type": "markdown",
   "metadata": {},
   "source": [
    "from keras.layers import Dense, Dropout, Flatten,Conv2D, MaxPooling2D\n",
    "from keras.utils import to_categorical\n",
    "from keras.models import Sequential\n",
    "from sklearn import model_selection\n",
    "from keras.utils import np_utils\n",
    "from keras.datasets import mnist\n",
    "import matplotlib.pyplot as plt\n",
    "from scipy import ndimage\n",
    "from PIL import Image\n",
    "import pandas as pd\n",
    "import numpy as np\n",
    "np.random.seed(10)"
   ]
  },
  {
   "cell_type": "markdown",
   "metadata": {},
   "source": [
    "# plot function"
   ]
  },
  {
   "cell_type": "code",
   "execution_count": 2,
   "metadata": {},
   "outputs": [],
   "source": [
    "import matplotlib.pyplot as plt\n",
    "def show_train_history(train_history, train, validation):\n",
    "    plt.plot(train_history.history[train])\n",
    "    plt.plot(train_history.history[validation])\n",
    "    plt.title('train_histroy')\n",
    "    plt.ylabel(train)\n",
    "    plt.xlabel('Epoch')\n",
    "    plt.legend(['train','validation'], loc='upper left')\n",
    "    plt.show()"
   ]
  },
  {
   "cell_type": "markdown",
   "metadata": {},
   "source": [
    "# load data"
   ]
  },
  {
   "cell_type": "code",
   "execution_count": 3,
   "metadata": {},
   "outputs": [],
   "source": [
    "import glob\n",
    "filelist = sorted(glob.glob('/Users/tyyeh/Documents/Documents - TengYuanYEH MacBook Air/bigdata/final project/*.jpg'))"
   ]
  },
  {
   "cell_type": "code",
   "execution_count": 4,
   "metadata": {},
   "outputs": [
    {
     "data": {
      "text/plain": [
       "['/Users/tyyeh/Documents/Documents - TengYuanYEH MacBook Air/bigdata/final project/20170620-20170710 2330.jpg',\n",
       " '/Users/tyyeh/Documents/Documents - TengYuanYEH MacBook Air/bigdata/final project/20170627-20170717 2330.jpg',\n",
       " '/Users/tyyeh/Documents/Documents - TengYuanYEH MacBook Air/bigdata/final project/20170704-20170724 2330.jpg',\n",
       " '/Users/tyyeh/Documents/Documents - TengYuanYEH MacBook Air/bigdata/final project/20170711-20170731 2330.jpg',\n",
       " '/Users/tyyeh/Documents/Documents - TengYuanYEH MacBook Air/bigdata/final project/20170718-20170807 2330.jpg',\n",
       " '/Users/tyyeh/Documents/Documents - TengYuanYEH MacBook Air/bigdata/final project/20170725-20170814 2330.jpg',\n",
       " '/Users/tyyeh/Documents/Documents - TengYuanYEH MacBook Air/bigdata/final project/20170801-20170821 2330.jpg',\n",
       " '/Users/tyyeh/Documents/Documents - TengYuanYEH MacBook Air/bigdata/final project/20170808-20170828 2330.jpg',\n",
       " '/Users/tyyeh/Documents/Documents - TengYuanYEH MacBook Air/bigdata/final project/20170815-20170904 2330.jpg',\n",
       " '/Users/tyyeh/Documents/Documents - TengYuanYEH MacBook Air/bigdata/final project/20170822-20170911 2330.jpg',\n",
       " '/Users/tyyeh/Documents/Documents - TengYuanYEH MacBook Air/bigdata/final project/20170829-20170918 2330.jpg',\n",
       " '/Users/tyyeh/Documents/Documents - TengYuanYEH MacBook Air/bigdata/final project/20170905-20170925 2330.jpg',\n",
       " '/Users/tyyeh/Documents/Documents - TengYuanYEH MacBook Air/bigdata/final project/20170912-20171002 2330.jpg',\n",
       " '/Users/tyyeh/Documents/Documents - TengYuanYEH MacBook Air/bigdata/final project/20170919-20171009 2330.jpg',\n",
       " '/Users/tyyeh/Documents/Documents - TengYuanYEH MacBook Air/bigdata/final project/20170926-20171016 2330.jpg',\n",
       " '/Users/tyyeh/Documents/Documents - TengYuanYEH MacBook Air/bigdata/final project/20171003-20171023 2330.jpg',\n",
       " '/Users/tyyeh/Documents/Documents - TengYuanYEH MacBook Air/bigdata/final project/20171010-20171030 2330.jpg',\n",
       " '/Users/tyyeh/Documents/Documents - TengYuanYEH MacBook Air/bigdata/final project/20171017-20171106 2330.jpg',\n",
       " '/Users/tyyeh/Documents/Documents - TengYuanYEH MacBook Air/bigdata/final project/20171024-20171113 2330.jpg',\n",
       " '/Users/tyyeh/Documents/Documents - TengYuanYEH MacBook Air/bigdata/final project/20171031-20171120 2330.jpg',\n",
       " '/Users/tyyeh/Documents/Documents - TengYuanYEH MacBook Air/bigdata/final project/20171107-20171127 2330.jpg',\n",
       " '/Users/tyyeh/Documents/Documents - TengYuanYEH MacBook Air/bigdata/final project/20171114-20171204 2330.jpg',\n",
       " '/Users/tyyeh/Documents/Documents - TengYuanYEH MacBook Air/bigdata/final project/20171121-20171211 2330.jpg',\n",
       " '/Users/tyyeh/Documents/Documents - TengYuanYEH MacBook Air/bigdata/final project/20171128-20171218 2330.jpg',\n",
       " '/Users/tyyeh/Documents/Documents - TengYuanYEH MacBook Air/bigdata/final project/20171205-20171225 2330.jpg',\n",
       " '/Users/tyyeh/Documents/Documents - TengYuanYEH MacBook Air/bigdata/final project/20171212-20180101 2330.jpg',\n",
       " '/Users/tyyeh/Documents/Documents - TengYuanYEH MacBook Air/bigdata/final project/20171219-20180108 2330.jpg',\n",
       " '/Users/tyyeh/Documents/Documents - TengYuanYEH MacBook Air/bigdata/final project/20171226-20180115 2330.jpg',\n",
       " '/Users/tyyeh/Documents/Documents - TengYuanYEH MacBook Air/bigdata/final project/20180102-20180122 2330.jpg',\n",
       " '/Users/tyyeh/Documents/Documents - TengYuanYEH MacBook Air/bigdata/final project/20180109-20180129 2330.jpg',\n",
       " '/Users/tyyeh/Documents/Documents - TengYuanYEH MacBook Air/bigdata/final project/20180116-20180205 2330.jpg',\n",
       " '/Users/tyyeh/Documents/Documents - TengYuanYEH MacBook Air/bigdata/final project/20180123-20180212 2330.jpg',\n",
       " '/Users/tyyeh/Documents/Documents - TengYuanYEH MacBook Air/bigdata/final project/20180130-20180219 2330.jpg',\n",
       " '/Users/tyyeh/Documents/Documents - TengYuanYEH MacBook Air/bigdata/final project/20180206-20180226 2330.jpg',\n",
       " '/Users/tyyeh/Documents/Documents - TengYuanYEH MacBook Air/bigdata/final project/20180213-20180305 2330.jpg',\n",
       " '/Users/tyyeh/Documents/Documents - TengYuanYEH MacBook Air/bigdata/final project/20180220-20180312 2330.jpg',\n",
       " '/Users/tyyeh/Documents/Documents - TengYuanYEH MacBook Air/bigdata/final project/20180227-20180319 2330.jpg',\n",
       " '/Users/tyyeh/Documents/Documents - TengYuanYEH MacBook Air/bigdata/final project/20180306-20180326 2330.jpg',\n",
       " '/Users/tyyeh/Documents/Documents - TengYuanYEH MacBook Air/bigdata/final project/20180313-20180402 2330.jpg',\n",
       " '/Users/tyyeh/Documents/Documents - TengYuanYEH MacBook Air/bigdata/final project/20180320-20180409 2330.jpg',\n",
       " '/Users/tyyeh/Documents/Documents - TengYuanYEH MacBook Air/bigdata/final project/20180327-20180416 2330.jpg',\n",
       " '/Users/tyyeh/Documents/Documents - TengYuanYEH MacBook Air/bigdata/final project/20180403-20180423 2330.jpg',\n",
       " '/Users/tyyeh/Documents/Documents - TengYuanYEH MacBook Air/bigdata/final project/20180410-20180430 2330.jpg',\n",
       " '/Users/tyyeh/Documents/Documents - TengYuanYEH MacBook Air/bigdata/final project/20180417-20180507 2330.jpg',\n",
       " '/Users/tyyeh/Documents/Documents - TengYuanYEH MacBook Air/bigdata/final project/20180424-20180514 2330.jpg',\n",
       " '/Users/tyyeh/Documents/Documents - TengYuanYEH MacBook Air/bigdata/final project/20180501-20180521 2330.jpg',\n",
       " '/Users/tyyeh/Documents/Documents - TengYuanYEH MacBook Air/bigdata/final project/20180508-20180528 2330.jpg',\n",
       " '/Users/tyyeh/Documents/Documents - TengYuanYEH MacBook Air/bigdata/final project/20180515-20180604 2330.jpg',\n",
       " '/Users/tyyeh/Documents/Documents - TengYuanYEH MacBook Air/bigdata/final project/20180522-20180611 2330.jpg',\n",
       " '/Users/tyyeh/Documents/Documents - TengYuanYEH MacBook Air/bigdata/final project/20180529-20180618 2330.jpg']"
      ]
     },
     "execution_count": 4,
     "metadata": {},
     "output_type": "execute_result"
    }
   ],
   "source": [
    "filelist"
   ]
  },
  {
   "cell_type": "code",
   "execution_count": 5,
   "metadata": {},
   "outputs": [],
   "source": [
    "x = np.array([np.array(Image.open(fname)) for fname in filelist])"
   ]
  },
  {
   "cell_type": "code",
   "execution_count": 6,
   "metadata": {},
   "outputs": [
    {
     "data": {
      "text/plain": [
       "(50, 615, 1432, 3)"
      ]
     },
     "execution_count": 6,
     "metadata": {},
     "output_type": "execute_result"
    }
   ],
   "source": [
    "x.shape"
   ]
  },
  {
   "cell_type": "code",
   "execution_count": 7,
   "metadata": {},
   "outputs": [
    {
     "data": {
      "text/plain": [
       "<matplotlib.image.AxesImage at 0x103bbd320>"
      ]
     },
     "execution_count": 7,
     "metadata": {},
     "output_type": "execute_result"
    },
    {
     "data": {
      "image/png": "[encoded data removed]",
      "text/plain": [
       "<Figure size 432x288 with 1 Axes>"
      ]
     },
     "metadata": {},
     "output_type": "display_data"
    }
   ],
   "source": [
    "plt.imshow(x[20], cmap='gray')"
   ]
  },
  {
   "cell_type": "code",
   "execution_count": 8,
   "metadata": {},
   "outputs": [
    {
     "name": "stdout",
     "output_type": "stream",
     "text": [
      "<class 'pandas.core.frame.DataFrame'>\n",
      "RangeIndex: 50 entries, 0 to 49\n",
      "Data columns (total 1 columns):\n",
      "close    50 non-null int64\n",
      "dtypes: int64(1)\n",
      "memory usage: 480.0 bytes\n"
     ]
    }
   ],
   "source": [
    "Y = pd.read_csv(\"/Users/tyyeh/Documents/Documents - TengYuanYEH MacBook Air/bigdata/final project/20170620-201806180-2330-chinese-v7.csv\")\n",
    "Y.info()"
   ]
  },
  {
   "cell_type": "code",
   "execution_count": 9,
   "metadata": {},
   "outputs": [],
   "source": [
    "train_X, test_X, train_y, test_y = model_selection.train_test_split(x, Y, test_size = 0.3)"
   ]
  },
  {
   "cell_type": "code",
   "execution_count": 10,
   "metadata": {},
   "outputs": [
    {
     "data": {
      "text/plain": [
       "(35, 615, 1432, 3)"
      ]
     },
     "execution_count": 10,
     "metadata": {},
     "output_type": "execute_result"
    }
   ],
   "source": [
    "train_X.shape"
   ]
  },
  {
   "cell_type": "markdown",
   "metadata": {},
   "source": [
    "# x_train normalize & 4D matrix"
   ]
  },
  {
   "cell_type": "code",
   "execution_count": 11,
   "metadata": {},
   "outputs": [],
   "source": [
    "x_train4D = train_X.reshape(train_X.shape[0], 615, 1432, 3).astype('float64')\n",
    "x_test4D = test_X.reshape(test_X.shape[0], 615, 1432, 3).astype('float64')"
   ]
  },
  {
   "cell_type": "code",
   "execution_count": 12,
   "metadata": {},
   "outputs": [
    {
     "data": {
      "text/plain": [
       "array([[[[  0.,   0.,  12.],\n",
       "         [  9.,  12.,  27.],\n",
       "         [  0.,   0.,  14.],\n",
       "         ...,\n",
       "         [  0.,   0.,  23.],\n",
       "         [  6.,  13.,  29.],\n",
       "         [  0.,   0.,   9.]],\n",
       "\n",
       "        [[ 17.,  20.,  35.],\n",
       "         [165., 171., 185.],\n",
       "         [189., 195., 211.],\n",
       "         ...,\n",
       "         [187., 195., 218.],\n",
       "         [164., 171., 189.],\n",
       "         [ 17.,  21.,  30.]],\n",
       "\n",
       "        [[  0.,   0.,  14.],\n",
       "         [192., 198., 214.],\n",
       "         [203., 210., 226.],\n",
       "         ...,\n",
       "         [202., 210., 233.],\n",
       "         [191., 198., 216.],\n",
       "         [  0.,   0.,   9.]],\n",
       "\n",
       "        ...,\n",
       "\n",
       "        [[  0.,   2.,  19.],\n",
       "         [180., 193., 210.],\n",
       "         [193., 206., 223.],\n",
       "         ...,\n",
       "         [194., 206., 218.],\n",
       "         [183., 193., 203.],\n",
       "         [  0.,   1.,   9.]],\n",
       "\n",
       "        [[  4.,  14.,  26.],\n",
       "         [160., 170., 182.],\n",
       "         [197., 207., 219.],\n",
       "         ...,\n",
       "         [199., 206., 214.],\n",
       "         [162., 169., 175.],\n",
       "         [  8.,  13.,  19.]],\n",
       "\n",
       "        [[  0.,   2.,   9.],\n",
       "         [ 12.,  21.,  28.],\n",
       "         [  0.,   2.,   9.],\n",
       "         ...,\n",
       "         [  0.,   0.,   5.],\n",
       "         [ 16.,  20.,  23.],\n",
       "         [  0.,   1.,   4.]]],\n",
       "\n",
       "\n",
       "       [[[  0.,   0.,  12.],\n",
       "         [  9.,  12.,  27.],\n",
       "         [  0.,   0.,  14.],\n",
       "         ...,\n",
       "         [  0.,   0.,  23.],\n",
       "         [  6.,  13.,  29.],\n",
       "         [  0.,   0.,   9.]],\n",
       "\n",
       "        [[ 17.,  20.,  35.],\n",
       "         [165., 171., 185.],\n",
       "         [189., 195., 211.],\n",
       "         ...,\n",
       "         [187., 195., 218.],\n",
       "         [164., 171., 189.],\n",
       "         [ 17.,  21.,  30.]],\n",
       "\n",
       "        [[  0.,   0.,  14.],\n",
       "         [192., 198., 214.],\n",
       "         [203., 210., 226.],\n",
       "         ...,\n",
       "         [202., 210., 233.],\n",
       "         [191., 198., 216.],\n",
       "         [  0.,   0.,   9.]],\n",
       "\n",
       "        ...,\n",
       "\n",
       "        [[  0.,   2.,  19.],\n",
       "         [180., 193., 210.],\n",
       "         [193., 206., 223.],\n",
       "         ...,\n",
       "         [194., 206., 218.],\n",
       "         [183., 193., 203.],\n",
       "         [  0.,   1.,   9.]],\n",
       "\n",
       "        [[  4.,  14.,  26.],\n",
       "         [160., 170., 182.],\n",
       "         [197., 207., 219.],\n",
       "         ...,\n",
       "         [199., 206., 214.],\n",
       "         [162., 169., 175.],\n",
       "         [  8.,  13.,  19.]],\n",
       "\n",
       "        [[  0.,   2.,   9.],\n",
       "         [ 12.,  21.,  28.],\n",
       "         [  0.,   2.,   9.],\n",
       "         ...,\n",
       "         [  0.,   0.,   5.],\n",
       "         [ 16.,  20.,  23.],\n",
       "         [  0.,   1.,   4.]]],\n",
       "\n",
       "\n",
       "       [[[  0.,   0.,  12.],\n",
       "         [  9.,  12.,  27.],\n",
       "         [  0.,   0.,  14.],\n",
       "         ...,\n",
       "         [  0.,   0.,  23.],\n",
       "         [  6.,  13.,  29.],\n",
       "         [  0.,   0.,   9.]],\n",
       "\n",
       "        [[ 17.,  20.,  35.],\n",
       "         [165., 171., 185.],\n",
       "         [189., 195., 211.],\n",
       "         ...,\n",
       "         [187., 195., 218.],\n",
       "         [164., 171., 189.],\n",
       "         [ 17.,  21.,  30.]],\n",
       "\n",
       "        [[  0.,   0.,  14.],\n",
       "         [192., 198., 214.],\n",
       "         [203., 210., 226.],\n",
       "         ...,\n",
       "         [202., 210., 233.],\n",
       "         [191., 198., 216.],\n",
       "         [  0.,   0.,   9.]],\n",
       "\n",
       "        ...,\n",
       "\n",
       "        [[  0.,   2.,  19.],\n",
       "         [180., 193., 210.],\n",
       "         [193., 206., 223.],\n",
       "         ...,\n",
       "         [194., 206., 218.],\n",
       "         [183., 193., 203.],\n",
       "         [  0.,   1.,   9.]],\n",
       "\n",
       "        [[  4.,  14.,  26.],\n",
       "         [160., 170., 182.],\n",
       "         [197., 207., 219.],\n",
       "         ...,\n",
       "         [199., 206., 214.],\n",
       "         [162., 169., 175.],\n",
       "         [  8.,  13.,  19.]],\n",
       "\n",
       "        [[  0.,   2.,   9.],\n",
       "         [ 12.,  21.,  28.],\n",
       "         [  0.,   2.,   9.],\n",
       "         ...,\n",
       "         [  0.,   0.,   5.],\n",
       "         [ 16.,  20.,  23.],\n",
       "         [  0.,   1.,   4.]]],\n",
       "\n",
       "\n",
       "       ...,\n",
       "\n",
       "\n",
       "       [[[  0.,   0.,  12.],\n",
       "         [  9.,  12.,  27.],\n",
       "         [  0.,   0.,  14.],\n",
       "         ...,\n",
       "         [  0.,   0.,  23.],\n",
       "         [  6.,  13.,  29.],\n",
       "         [  0.,   0.,   9.]],\n",
       "\n",
       "        [[ 17.,  20.,  35.],\n",
       "         [165., 171., 185.],\n",
       "         [189., 195., 211.],\n",
       "         ...,\n",
       "         [187., 195., 218.],\n",
       "         [164., 171., 189.],\n",
       "         [ 17.,  21.,  30.]],\n",
       "\n",
       "        [[  0.,   0.,  14.],\n",
       "         [192., 198., 214.],\n",
       "         [203., 210., 226.],\n",
       "         ...,\n",
       "         [202., 210., 233.],\n",
       "         [191., 198., 216.],\n",
       "         [  0.,   0.,   9.]],\n",
       "\n",
       "        ...,\n",
       "\n",
       "        [[  0.,   2.,  19.],\n",
       "         [180., 193., 210.],\n",
       "         [193., 206., 223.],\n",
       "         ...,\n",
       "         [194., 206., 218.],\n",
       "         [183., 193., 203.],\n",
       "         [  0.,   1.,   9.]],\n",
       "\n",
       "        [[  4.,  14.,  26.],\n",
       "         [160., 170., 182.],\n",
       "         [197., 207., 219.],\n",
       "         ...,\n",
       "         [199., 206., 214.],\n",
       "         [162., 169., 175.],\n",
       "         [  8.,  13.,  19.]],\n",
       "\n",
       "        [[  0.,   2.,   9.],\n",
       "         [ 12.,  21.,  28.],\n",
       "         [  0.,   2.,   9.],\n",
       "         ...,\n",
       "         [  0.,   0.,   5.],\n",
       "         [ 16.,  20.,  23.],\n",
       "         [  0.,   1.,   4.]]],\n",
       "\n",
       "\n",
       "       [[[  0.,   0.,  12.],\n",
       "         [  9.,  12.,  27.],\n",
       "         [  0.,   0.,  14.],\n",
       "         ...,\n",
       "         [  0.,   0.,  23.],\n",
       "         [  6.,  13.,  29.],\n",
       "         [  0.,   0.,   9.]],\n",
       "\n",
       "        [[ 17.,  20.,  35.],\n",
       "         [165., 171., 185.],\n",
       "         [189., 195., 211.],\n",
       "         ...,\n",
       "         [187., 195., 218.],\n",
       "         [164., 171., 189.],\n",
       "         [ 17.,  21.,  30.]],\n",
       "\n",
       "        [[  0.,   0.,  14.],\n",
       "         [192., 198., 214.],\n",
       "         [203., 210., 226.],\n",
       "         ...,\n",
       "         [202., 210., 233.],\n",
       "         [191., 198., 216.],\n",
       "         [  0.,   0.,   9.]],\n",
       "\n",
       "        ...,\n",
       "\n",
       "        [[  0.,   2.,  19.],\n",
       "         [180., 193., 210.],\n",
       "         [193., 206., 223.],\n",
       "         ...,\n",
       "         [194., 206., 218.],\n",
       "         [183., 193., 203.],\n",
       "         [  0.,   1.,   9.]],\n",
       "\n",
       "        [[  4.,  14.,  26.],\n",
       "         [160., 170., 182.],\n",
       "         [197., 207., 219.],\n",
       "         ...,\n",
       "         [199., 206., 214.],\n",
       "         [162., 169., 175.],\n",
       "         [  8.,  13.,  19.]],\n",
       "\n",
       "        [[  0.,   2.,   9.],\n",
       "         [ 12.,  21.,  28.],\n",
       "         [  0.,   2.,   9.],\n",
       "         ...,\n",
       "         [  0.,   0.,   5.],\n",
       "         [ 16.,  20.,  23.],\n",
       "         [  0.,   1.,   4.]]],\n",
       "\n",
       "\n",
       "       [[[  0.,   0.,  12.],\n",
       "         [  9.,  12.,  27.],\n",
       "         [  0.,   0.,  14.],\n",
       "         ...,\n",
       "         [  0.,   0.,  23.],\n",
       "         [  6.,  13.,  29.],\n",
       "         [  0.,   0.,   9.]],\n",
       "\n",
       "        [[ 17.,  20.,  35.],\n",
       "         [165., 171., 185.],\n",
       "         [189., 195., 211.],\n",
       "         ...,\n",
       "         [187., 195., 218.],\n",
       "         [164., 171., 189.],\n",
       "         [ 17.,  21.,  30.]],\n",
       "\n",
       "        [[  0.,   0.,  14.],\n",
       "         [192., 198., 214.],\n",
       "         [203., 210., 226.],\n",
       "         ...,\n",
       "         [202., 210., 233.],\n",
       "         [191., 198., 216.],\n",
       "         [  0.,   0.,   9.]],\n",
       "\n",
       "        ...,\n",
       "\n",
       "        [[  0.,   2.,  19.],\n",
       "         [180., 193., 210.],\n",
       "         [193., 206., 223.],\n",
       "         ...,\n",
       "         [194., 206., 218.],\n",
       "         [183., 193., 203.],\n",
       "         [  0.,   1.,   9.]],\n",
       "\n",
       "        [[  4.,  14.,  26.],\n",
       "         [160., 170., 182.],\n",
       "         [197., 207., 219.],\n",
       "         ...,\n",
       "         [199., 206., 214.],\n",
       "         [162., 169., 175.],\n",
       "         [  8.,  13.,  19.]],\n",
       "\n",
       "        [[  0.,   2.,   9.],\n",
       "         [ 12.,  21.,  28.],\n",
       "         [  0.,   2.,   9.],\n",
       "         ...,\n",
       "         [  0.,   0.,   5.],\n",
       "         [ 16.,  20.,  23.],\n",
       "         [  0.,   1.,   4.]]]])"
      ]
     },
     "execution_count": 12,
     "metadata": {},
     "output_type": "execute_result"
    }
   ],
   "source": [
    "x_train4D"
   ]
  },
  {
   "cell_type": "code",
   "execution_count": 13,
   "metadata": {},
   "outputs": [],
   "source": [
    "x_train4D_normalize = x_train4D / 255 #normailize\n",
    "x_test4D_normalize = x_test4D/ 255"
   ]
  },
  {
   "cell_type": "code",
   "execution_count": 14,
   "metadata": {},
   "outputs": [
    {
     "data": {
      "text/plain": [
       "array([[[[0.        , 0.        , 0.04705882],\n",
       "         [0.03529412, 0.04705882, 0.10588235],\n",
       "         [0.        , 0.        , 0.05490196],\n",
       "         ...,\n",
       "         [0.        , 0.        , 0.09019608],\n",
       "         [0.02352941, 0.05098039, 0.11372549],\n",
       "         [0.        , 0.        , 0.03529412]],\n",
       "\n",
       "        [[0.06666667, 0.07843137, 0.1372549 ],\n",
       "         [0.64705882, 0.67058824, 0.7254902 ],\n",
       "         [0.74117647, 0.76470588, 0.82745098],\n",
       "         ...,\n",
       "         [0.73333333, 0.76470588, 0.85490196],\n",
       "         [0.64313725, 0.67058824, 0.74117647],\n",
       "         [0.06666667, 0.08235294, 0.11764706]],\n",
       "\n",
       "        [[0.        , 0.        , 0.05490196],\n",
       "         [0.75294118, 0.77647059, 0.83921569],\n",
       "         [0.79607843, 0.82352941, 0.88627451],\n",
       "         ...,\n",
       "         [0.79215686, 0.82352941, 0.91372549],\n",
       "         [0.74901961, 0.77647059, 0.84705882],\n",
       "         [0.        , 0.        , 0.03529412]],\n",
       "\n",
       "        ...,\n",
       "\n",
       "        [[0.        , 0.00784314, 0.0745098 ],\n",
       "         [0.70588235, 0.75686275, 0.82352941],\n",
       "         [0.75686275, 0.80784314, 0.8745098 ],\n",
       "         ...,\n",
       "         [0.76078431, 0.80784314, 0.85490196],\n",
       "         [0.71764706, 0.75686275, 0.79607843],\n",
       "         [0.        , 0.00392157, 0.03529412]],\n",
       "\n",
       "        [[0.01568627, 0.05490196, 0.10196078],\n",
       "         [0.62745098, 0.66666667, 0.71372549],\n",
       "         [0.77254902, 0.81176471, 0.85882353],\n",
       "         ...,\n",
       "         [0.78039216, 0.80784314, 0.83921569],\n",
       "         [0.63529412, 0.6627451 , 0.68627451],\n",
       "         [0.03137255, 0.05098039, 0.0745098 ]],\n",
       "\n",
       "        [[0.        , 0.00784314, 0.03529412],\n",
       "         [0.04705882, 0.08235294, 0.10980392],\n",
       "         [0.        , 0.00784314, 0.03529412],\n",
       "         ...,\n",
       "         [0.        , 0.        , 0.01960784],\n",
       "         [0.0627451 , 0.07843137, 0.09019608],\n",
       "         [0.        , 0.00392157, 0.01568627]]],\n",
       "\n",
       "\n",
       "       [[[0.        , 0.        , 0.04705882],\n",
       "         [0.03529412, 0.04705882, 0.10588235],\n",
       "         [0.        , 0.        , 0.05490196],\n",
       "         ...,\n",
       "         [0.        , 0.        , 0.09019608],\n",
       "         [0.02352941, 0.05098039, 0.11372549],\n",
       "         [0.        , 0.        , 0.03529412]],\n",
       "\n",
       "        [[0.06666667, 0.07843137, 0.1372549 ],\n",
       "         [0.64705882, 0.67058824, 0.7254902 ],\n",
       "         [0.74117647, 0.76470588, 0.82745098],\n",
       "         ...,\n",
       "         [0.73333333, 0.76470588, 0.85490196],\n",
       "         [0.64313725, 0.67058824, 0.74117647],\n",
       "         [0.06666667, 0.08235294, 0.11764706]],\n",
       "\n",
       "        [[0.        , 0.        , 0.05490196],\n",
       "         [0.75294118, 0.77647059, 0.83921569],\n",
       "         [0.79607843, 0.82352941, 0.88627451],\n",
       "         ...,\n",
       "         [0.79215686, 0.82352941, 0.91372549],\n",
       "         [0.74901961, 0.77647059, 0.84705882],\n",
       "         [0.        , 0.        , 0.03529412]],\n",
       "\n",
       "        ...,\n",
       "\n",
       "        [[0.        , 0.00784314, 0.0745098 ],\n",
       "         [0.70588235, 0.75686275, 0.82352941],\n",
       "         [0.75686275, 0.80784314, 0.8745098 ],\n",
       "         ...,\n",
       "         [0.76078431, 0.80784314, 0.85490196],\n",
       "         [0.71764706, 0.75686275, 0.79607843],\n",
       "         [0.        , 0.00392157, 0.03529412]],\n",
       "\n",
       "        [[0.01568627, 0.05490196, 0.10196078],\n",
       "         [0.62745098, 0.66666667, 0.71372549],\n",
       "         [0.77254902, 0.81176471, 0.85882353],\n",
       "         ...,\n",
       "         [0.78039216, 0.80784314, 0.83921569],\n",
       "         [0.63529412, 0.6627451 , 0.68627451],\n",
       "         [0.03137255, 0.05098039, 0.0745098 ]],\n",
       "\n",
       "        [[0.        , 0.00784314, 0.03529412],\n",
       "         [0.04705882, 0.08235294, 0.10980392],\n",
       "         [0.        , 0.00784314, 0.03529412],\n",
       "         ...,\n",
       "         [0.        , 0.        , 0.01960784],\n",
       "         [0.0627451 , 0.07843137, 0.09019608],\n",
       "         [0.        , 0.00392157, 0.01568627]]],\n",
       "\n",
       "\n",
       "       [[[0.        , 0.        , 0.04705882],\n",
       "         [0.03529412, 0.04705882, 0.10588235],\n",
       "         [0.        , 0.        , 0.05490196],\n",
       "         ...,\n",
       "         [0.        , 0.        , 0.09019608],\n",
       "         [0.02352941, 0.05098039, 0.11372549],\n",
       "         [0.        , 0.        , 0.03529412]],\n",
       "\n",
       "        [[0.06666667, 0.07843137, 0.1372549 ],\n",
       "         [0.64705882, 0.67058824, 0.7254902 ],\n",
       "         [0.74117647, 0.76470588, 0.82745098],\n",
       "         ...,\n",
       "         [0.73333333, 0.76470588, 0.85490196],\n",
       "         [0.64313725, 0.67058824, 0.74117647],\n",
       "         [0.06666667, 0.08235294, 0.11764706]],\n",
       "\n",
       "        [[0.        , 0.        , 0.05490196],\n",
       "         [0.75294118, 0.77647059, 0.83921569],\n",
       "         [0.79607843, 0.82352941, 0.88627451],\n",
       "         ...,\n",
       "         [0.79215686, 0.82352941, 0.91372549],\n",
       "         [0.74901961, 0.77647059, 0.84705882],\n",
       "         [0.        , 0.        , 0.03529412]],\n",
       "\n",
       "        ...,\n",
       "\n",
       "        [[0.        , 0.00784314, 0.0745098 ],\n",
       "         [0.70588235, 0.75686275, 0.82352941],\n",
       "         [0.75686275, 0.80784314, 0.8745098 ],\n",
       "         ...,\n",
       "         [0.76078431, 0.80784314, 0.85490196],\n",
       "         [0.71764706, 0.75686275, 0.79607843],\n",
       "         [0.        , 0.00392157, 0.03529412]],\n",
       "\n",
       "        [[0.01568627, 0.05490196, 0.10196078],\n",
       "         [0.62745098, 0.66666667, 0.71372549],\n",
       "         [0.77254902, 0.81176471, 0.85882353],\n",
       "         ...,\n",
       "         [0.78039216, 0.80784314, 0.83921569],\n",
       "         [0.63529412, 0.6627451 , 0.68627451],\n",
       "         [0.03137255, 0.05098039, 0.0745098 ]],\n",
       "\n",
       "        [[0.        , 0.00784314, 0.03529412],\n",
       "         [0.04705882, 0.08235294, 0.10980392],\n",
       "         [0.        , 0.00784314, 0.03529412],\n",
       "         ...,\n",
       "         [0.        , 0.        , 0.01960784],\n",
       "         [0.0627451 , 0.07843137, 0.09019608],\n",
       "         [0.        , 0.00392157, 0.01568627]]],\n",
       "\n",
       "\n",
       "       ...,\n",
       "\n",
       "\n",
       "       [[[0.        , 0.        , 0.04705882],\n",
       "         [0.03529412, 0.04705882, 0.10588235],\n",
       "         [0.        , 0.        , 0.05490196],\n",
       "         ...,\n",
       "         [0.        , 0.        , 0.09019608],\n",
       "         [0.02352941, 0.05098039, 0.11372549],\n",
       "         [0.        , 0.        , 0.03529412]],\n",
       "\n",
       "        [[0.06666667, 0.07843137, 0.1372549 ],\n",
       "         [0.64705882, 0.67058824, 0.7254902 ],\n",
       "         [0.74117647, 0.76470588, 0.82745098],\n",
       "         ...,\n",
       "         [0.73333333, 0.76470588, 0.85490196],\n",
       "         [0.64313725, 0.67058824, 0.74117647],\n",
       "         [0.06666667, 0.08235294, 0.11764706]],\n",
       "\n",
       "        [[0.        , 0.        , 0.05490196],\n",
       "         [0.75294118, 0.77647059, 0.83921569],\n",
       "         [0.79607843, 0.82352941, 0.88627451],\n",
       "         ...,\n",
       "         [0.79215686, 0.82352941, 0.91372549],\n",
       "         [0.74901961, 0.77647059, 0.84705882],\n",
       "         [0.        , 0.        , 0.03529412]],\n",
       "\n",
       "        ...,\n",
       "\n",
       "        [[0.        , 0.00784314, 0.0745098 ],\n",
       "         [0.70588235, 0.75686275, 0.82352941],\n",
       "         [0.75686275, 0.80784314, 0.8745098 ],\n",
       "         ...,\n",
       "         [0.76078431, 0.80784314, 0.85490196],\n",
       "         [0.71764706, 0.75686275, 0.79607843],\n",
       "         [0.        , 0.00392157, 0.03529412]],\n",
       "\n",
       "        [[0.01568627, 0.05490196, 0.10196078],\n",
       "         [0.62745098, 0.66666667, 0.71372549],\n",
       "         [0.77254902, 0.81176471, 0.85882353],\n",
       "         ...,\n",
       "         [0.78039216, 0.80784314, 0.83921569],\n",
       "         [0.63529412, 0.6627451 , 0.68627451],\n",
       "         [0.03137255, 0.05098039, 0.0745098 ]],\n",
       "\n",
       "        [[0.        , 0.00784314, 0.03529412],\n",
       "         [0.04705882, 0.08235294, 0.10980392],\n",
       "         [0.        , 0.00784314, 0.03529412],\n",
       "         ...,\n",
       "         [0.        , 0.        , 0.01960784],\n",
       "         [0.0627451 , 0.07843137, 0.09019608],\n",
       "         [0.        , 0.00392157, 0.01568627]]],\n",
       "\n",
       "\n",
       "       [[[0.        , 0.        , 0.04705882],\n",
       "         [0.03529412, 0.04705882, 0.10588235],\n",
       "         [0.        , 0.        , 0.05490196],\n",
       "         ...,\n",
       "         [0.        , 0.        , 0.09019608],\n",
       "         [0.02352941, 0.05098039, 0.11372549],\n",
       "         [0.        , 0.        , 0.03529412]],\n",
       "\n",
       "        [[0.06666667, 0.07843137, 0.1372549 ],\n",
       "         [0.64705882, 0.67058824, 0.7254902 ],\n",
       "         [0.74117647, 0.76470588, 0.82745098],\n",
       "         ...,\n",
       "         [0.73333333, 0.76470588, 0.85490196],\n",
       "         [0.64313725, 0.67058824, 0.74117647],\n",
       "         [0.06666667, 0.08235294, 0.11764706]],\n",
       "\n",
       "        [[0.        , 0.        , 0.05490196],\n",
       "         [0.75294118, 0.77647059, 0.83921569],\n",
       "         [0.79607843, 0.82352941, 0.88627451],\n",
       "         ...,\n",
       "         [0.79215686, 0.82352941, 0.91372549],\n",
       "         [0.74901961, 0.77647059, 0.84705882],\n",
       "         [0.        , 0.        , 0.03529412]],\n",
       "\n",
       "        ...,\n",
       "\n",
       "        [[0.        , 0.00784314, 0.0745098 ],\n",
       "         [0.70588235, 0.75686275, 0.82352941],\n",
       "         [0.75686275, 0.80784314, 0.8745098 ],\n",
       "         ...,\n",
       "         [0.76078431, 0.80784314, 0.85490196],\n",
       "         [0.71764706, 0.75686275, 0.79607843],\n",
       "         [0.        , 0.00392157, 0.03529412]],\n",
       "\n",
       "        [[0.01568627, 0.05490196, 0.10196078],\n",
       "         [0.62745098, 0.66666667, 0.71372549],\n",
       "         [0.77254902, 0.81176471, 0.85882353],\n",
       "         ...,\n",
       "         [0.78039216, 0.80784314, 0.83921569],\n",
       "         [0.63529412, 0.6627451 , 0.68627451],\n",
       "         [0.03137255, 0.05098039, 0.0745098 ]],\n",
       "\n",
       "        [[0.        , 0.00784314, 0.03529412],\n",
       "         [0.04705882, 0.08235294, 0.10980392],\n",
       "         [0.        , 0.00784314, 0.03529412],\n",
       "         ...,\n",
       "         [0.        , 0.        , 0.01960784],\n",
       "         [0.0627451 , 0.07843137, 0.09019608],\n",
       "         [0.        , 0.00392157, 0.01568627]]],\n",
       "\n",
       "\n",
       "       [[[0.        , 0.        , 0.04705882],\n",
       "         [0.03529412, 0.04705882, 0.10588235],\n",
       "         [0.        , 0.        , 0.05490196],\n",
       "         ...,\n",
       "         [0.        , 0.        , 0.09019608],\n",
       "         [0.02352941, 0.05098039, 0.11372549],\n",
       "         [0.        , 0.        , 0.03529412]],\n",
       "\n",
       "        [[0.06666667, 0.07843137, 0.1372549 ],\n",
       "         [0.64705882, 0.67058824, 0.7254902 ],\n",
       "         [0.74117647, 0.76470588, 0.82745098],\n",
       "         ...,\n",
       "         [0.73333333, 0.76470588, 0.85490196],\n",
       "         [0.64313725, 0.67058824, 0.74117647],\n",
       "         [0.06666667, 0.08235294, 0.11764706]],\n",
       "\n",
       "        [[0.        , 0.        , 0.05490196],\n",
       "         [0.75294118, 0.77647059, 0.83921569],\n",
       "         [0.79607843, 0.82352941, 0.88627451],\n",
       "         ...,\n",
       "         [0.79215686, 0.82352941, 0.91372549],\n",
       "         [0.74901961, 0.77647059, 0.84705882],\n",
       "         [0.        , 0.        , 0.03529412]],\n",
       "\n",
       "        ...,\n",
       "\n",
       "        [[0.        , 0.00784314, 0.0745098 ],\n",
       "         [0.70588235, 0.75686275, 0.82352941],\n",
       "         [0.75686275, 0.80784314, 0.8745098 ],\n",
       "         ...,\n",
       "         [0.76078431, 0.80784314, 0.85490196],\n",
       "         [0.71764706, 0.75686275, 0.79607843],\n",
       "         [0.        , 0.00392157, 0.03529412]],\n",
       "\n",
       "        [[0.01568627, 0.05490196, 0.10196078],\n",
       "         [0.62745098, 0.66666667, 0.71372549],\n",
       "         [0.77254902, 0.81176471, 0.85882353],\n",
       "         ...,\n",
       "         [0.78039216, 0.80784314, 0.83921569],\n",
       "         [0.63529412, 0.6627451 , 0.68627451],\n",
       "         [0.03137255, 0.05098039, 0.0745098 ]],\n",
       "\n",
       "        [[0.        , 0.00784314, 0.03529412],\n",
       "         [0.04705882, 0.08235294, 0.10980392],\n",
       "         [0.        , 0.00784314, 0.03529412],\n",
       "         ...,\n",
       "         [0.        , 0.        , 0.01960784],\n",
       "         [0.0627451 , 0.07843137, 0.09019608],\n",
       "         [0.        , 0.00392157, 0.01568627]]]])"
      ]
     },
     "execution_count": 14,
     "metadata": {},
     "output_type": "execute_result"
    }
   ],
   "source": [
    "x_train4D_normalize"
   ]
  },
  {
   "cell_type": "code",
   "execution_count": 15,
   "metadata": {},
   "outputs": [],
   "source": [
    "y_trainOneHot = np_utils.to_categorical(train_y)\n",
    "y_testOneHot = np_utils.to_categorical(test_y)"
   ]
  },
  {
   "cell_type": "markdown",
   "metadata": {},
   "source": [
    "# establish CNN model"
   ]
  },
  {
   "cell_type": "code",
   "execution_count": 23,
   "metadata": {},
   "outputs": [],
   "source": [
    "model = Sequential()"
   ]
  },
  {
   "cell_type": "code",
   "execution_count": 24,
   "metadata": {},
   "outputs": [],
   "source": [
    "model.add(Conv2D(filters=36,\n",
    "                kernel_size = (5,5),\n",
    "                padding = 'same',\n",
    "                input_shape=(615, 1432, 3),\n",
    "                activation='relu'))\n",
    "model.add(MaxPooling2D(pool_size=(2,2)))\n",
    "model.add(Conv2D(filters=36,\n",
    "                kernel_size=(5,5),\n",
    "                padding= 'same',\n",
    "                activation='relu'))\n",
    "model.add(MaxPooling2D(pool_size =(2,2)))"
   ]
  },
  {
   "cell_type": "code",
   "execution_count": 25,
   "metadata": {},
   "outputs": [],
   "source": [
    "model.add(Dropout(0.5))\n",
    "model.add(Flatten())\n",
    "model.add(Dense(128,activation='relu'))\n",
    "model.add(Dropout(0.5))\n",
    "model.add(Dense(3,activation='softmax'))"
   ]
  },
  {
   "cell_type": "code",
   "execution_count": 27,
   "metadata": {},
   "outputs": [],
   "source": [
    "model.compile(loss='categorical_crossentropy',\n",
    "             optimizer = 'adam', metrics=['accuracy'])"
   ]
  },
  {
   "cell_type": "markdown",
   "metadata": {},
   "source": [
    "# input train data in CNN"
   ]
  },
  {
   "cell_type": "code",
   "execution_count": 28,
   "metadata": {},
   "outputs": [
    {
     "name": "stdout",
     "output_type": "stream",
     "text": [
      "Train on 24 samples, validate on 11 samples\n",
      "Epoch 1/5\n",
      " - 212s - loss: 7.0771 - acc: 0.5000 - val_loss: 1.1921e-07 - val_acc: 1.0000\n",
      "Epoch 2/5\n",
      " - 206s - loss: 2.6863 - acc: 0.8333 - val_loss: 1.1921e-07 - val_acc: 1.0000\n",
      "Epoch 3/5\n",
      " - 183s - loss: 2.6863 - acc: 0.8333 - val_loss: 1.1921e-07 - val_acc: 1.0000\n",
      "Epoch 4/5\n",
      " - 180s - loss: 2.6863 - acc: 0.8333 - val_loss: 1.1921e-07 - val_acc: 1.0000\n",
      "Epoch 5/5\n",
      " - 208s - loss: 2.6863 - acc: 0.8333 - val_loss: 1.1921e-07 - val_acc: 1.0000\n"
     ]
    }
   ],
   "source": [
    "train_history = model.fit(x= x_train4D,y= y_trainOneHot,\n",
    "                          validation_split=0.3,epochs=5,\n",
    "                          batch_size=300, verbose=2)"
   ]
  },
  {
   "cell_type": "markdown",
   "metadata": {},
   "source": [
    "# show train history"
   ]
  },
  {
   "cell_type": "code",
   "execution_count": 29,
   "metadata": {},
   "outputs": [
    {
     "data": {
      "image/png": "[encoded data removed]",
      "text/plain": [
       "<Figure size 432x288 with 1 Axes>"
      ]
     },
     "metadata": {},
     "output_type": "display_data"
    }
   ],
   "source": [
    "show_train_history(train_history,'acc','val_acc')"
   ]
  },
  {
   "cell_type": "code",
   "execution_count": 30,
   "metadata": {},
   "outputs": [
    {
     "data": {
      "image/png": "[encoded data removed]",
      "text/plain": [
       "<Figure size 432x288 with 1 Axes>"
      ]
     },
     "metadata": {},
     "output_type": "display_data"
    }
   ],
   "source": [
    "show_train_history(train_history,'loss','val_loss')"
   ]
  },
  {
   "cell_type": "markdown",
   "metadata": {},
   "source": [
    "# predict score"
   ]
  },
  {
   "cell_type": "code",
   "execution_count": 31,
   "metadata": {},
   "outputs": [
    {
     "name": "stdout",
     "output_type": "stream",
     "text": [
      "\r",
      "15/15 [==============================] - 37s 2s/step\n"
     ]
    }
   ],
   "source": [
    "scores = model.evaluate(x_test4D_normalize, y_testOneHot)"
   ]
  },
  {
   "cell_type": "code",
   "execution_count": 32,
   "metadata": {},
   "outputs": [
    {
     "data": {
      "text/plain": [
       "0.8666666746139526"
      ]
     },
     "execution_count": 32,
     "metadata": {},
     "output_type": "execute_result"
    }
   ],
   "source": [
    "scores[1]"
   ]
  },
  {
   "cell_type": "code",
   "execution_count": null,
   "metadata": {},
   "outputs": [],
   "source": []
  }
 ],
 "metadata": {
  "kernelspec": {
   "display_name": "Python 3",
   "language": "python",
   "name": "python3"
  },
  "language_info": {
   "codemirror_mode": {
    "name": "ipython",
    "version": 3
   },
   "file_extension": ".py",
   "mimetype": "text/x-python",
   "name": "python",
   "nbconvert_exporter": "python",
   "pygments_lexer": "ipython3",
   "version": "3.6.4"
  }
 },
 "nbformat": 4,
 "nbformat_minor": 2
}
